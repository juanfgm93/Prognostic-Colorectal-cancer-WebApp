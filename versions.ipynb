{
 "cells": [
  {
   "cell_type": "code",
   "execution_count": 3,
   "metadata": {},
   "outputs": [
    {
     "name": "stdout",
     "output_type": "stream",
     "text": [
      "Pandas version: 2.0.3\n",
      "Streamlit version: 1.32.1\n"
     ]
    }
   ],
   "source": [
    "import pandas\n",
    "import streamlit\n",
    "\n",
    "print(\"Pandas version:\", pandas.__version__)\n",
    "print(\"Streamlit version:\", streamlit.__version__)"
   ]
  },
  {
   "cell_type": "code",
   "execution_count": 4,
   "metadata": {},
   "outputs": [
    {
     "name": "stdout",
     "output_type": "stream",
     "text": [
      "Streamlit version: 1.32.1\n",
      "Pandas version: 2.0.3\n",
      "NumPy version: 1.26.4\n",
      "Pickle version: 4.0\n",
      "Scikit-learn version: 1.4.1.post1\n"
     ]
    }
   ],
   "source": [
    "import streamlit as st\n",
    "import pandas as pd\n",
    "import numpy as np\n",
    "import pickle\n",
    "from sklearn import __version__ as sklearn_version\n",
    "\n",
    "print(\"Streamlit version:\", st.__version__)\n",
    "print(\"Pandas version:\", pd.__version__)\n",
    "print(\"NumPy version:\", np.__version__)\n",
    "print(\"Pickle version:\", pickle.format_version)\n",
    "print(\"Scikit-learn version:\", sklearn_version)\n",
    "\n"
   ]
  }
 ],
 "metadata": {
  "kernelspec": {
   "display_name": "base",
   "language": "python",
   "name": "python3"
  },
  "language_info": {
   "codemirror_mode": {
    "name": "ipython",
    "version": 3
   },
   "file_extension": ".py",
   "mimetype": "text/x-python",
   "name": "python",
   "nbconvert_exporter": "python",
   "pygments_lexer": "ipython3",
   "version": "3.11.5"
  }
 },
 "nbformat": 4,
 "nbformat_minor": 2
}
