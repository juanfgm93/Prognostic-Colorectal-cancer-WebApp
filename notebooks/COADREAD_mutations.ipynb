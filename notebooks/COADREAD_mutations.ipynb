{
 "cells": [
  {
   "cell_type": "code",
   "execution_count": 1,
   "metadata": {},
   "outputs": [],
   "source": [
    "import pandas as pd\n",
    "import requests\n",
    "import json"
   ]
  },
  {
   "cell_type": "markdown",
   "metadata": {},
   "source": [
    "## TOP 50 MUTATED GENES IN CRC"
   ]
  },
  {
   "cell_type": "markdown",
   "metadata": {},
   "source": [
    "### APC"
   ]
  },
  {
   "cell_type": "code",
   "execution_count": 2,
   "metadata": {},
   "outputs": [],
   "source": [
    "# Open the JSON file\n",
    "with open('C:/Users/juan_/OneDrive/Escritorio/Ironhack/Week9_final_project/mutation/APCclinical.cohort.2024-03-08.json', 'r') as file:\n",
    "    # Load the JSON data from the file\n",
    "    data = json.load(file)\n",
    "\n",
    "# Create a DataFrame from the JSON data\n",
    "mut_apc = pd.DataFrame(data)\n",
    "\n",
    "# Print the DataFrame\n",
    "mut_apc = pd.DataFrame(mut_apc['submitter_id'])"
   ]
  },
  {
   "cell_type": "markdown",
   "metadata": {},
   "source": [
    "### TP53"
   ]
  },
  {
   "cell_type": "code",
   "execution_count": 3,
   "metadata": {},
   "outputs": [],
   "source": [
    "# Open the JSON file\n",
    "with open('C:/Users/juan_/OneDrive/Escritorio/Ironhack/Week9_final_project/mutation/TP53clinical.cohort.2024-03-08.json', 'r') as file:\n",
    "    # Load the JSON data from the file\n",
    "    data = json.load(file)\n",
    "\n",
    "# Create a DataFrame from the JSON data\n",
    "mut_tp53 = pd.DataFrame(data)\n",
    "\n",
    "# Print the DataFrame\n",
    "mut_tp53 = pd.DataFrame(mut_tp53['submitter_id'])"
   ]
  },
  {
   "cell_type": "markdown",
   "metadata": {},
   "source": [
    "### KRAS"
   ]
  },
  {
   "cell_type": "code",
   "execution_count": 4,
   "metadata": {},
   "outputs": [],
   "source": [
    "# Open the JSON file\n",
    "with open('C:/Users/juan_/OneDrive/Escritorio/Ironhack/Week9_final_project/mutation/KRASclinical.cohort.2024-03-08.json', 'r') as file:\n",
    "    # Load the JSON data from the file\n",
    "    data = json.load(file)\n",
    "\n",
    "# Create a DataFrame from the JSON data\n",
    "mut_kras = pd.DataFrame(data)\n",
    "\n",
    "# Print the DataFrame\n",
    "mut_kras = pd.DataFrame(mut_kras['submitter_id'])"
   ]
  },
  {
   "cell_type": "markdown",
   "metadata": {},
   "source": [
    "### MUC16"
   ]
  },
  {
   "cell_type": "code",
   "execution_count": 5,
   "metadata": {},
   "outputs": [],
   "source": [
    "# Open the JSON file\n",
    "with open('C:/Users/juan_/OneDrive/Escritorio/Ironhack/Week9_final_project/mutation/MUC16clinical.cohort.2024-03-08.json', 'r') as file:\n",
    "    # Load the JSON data from the file\n",
    "    data = json.load(file)\n",
    "\n",
    "# Create a DataFrame from the JSON data\n",
    "mut_muc16 = pd.DataFrame(data)\n",
    "\n",
    "# Print the DataFrame\n",
    "mut_muc16 = pd.DataFrame(mut_muc16['submitter_id'])"
   ]
  },
  {
   "cell_type": "markdown",
   "metadata": {},
   "source": [
    "### PIK3CA"
   ]
  },
  {
   "cell_type": "code",
   "execution_count": 6,
   "metadata": {},
   "outputs": [],
   "source": [
    "# Open the JSON file\n",
    "with open('C:/Users/juan_/OneDrive/Escritorio/Ironhack/Week9_final_project/mutation/PIK3CAclinical.cohort.2024-03-08.json', 'r') as file:\n",
    "    # Load the JSON data from the file\n",
    "    data = json.load(file)\n",
    "\n",
    "# Create a DataFrame from the JSON data\n",
    "mut_pik3ca = pd.DataFrame(data)\n",
    "\n",
    "# Print the DataFrame\n",
    "mut_pik3ca = pd.DataFrame(mut_pik3ca['submitter_id'])"
   ]
  },
  {
   "cell_type": "markdown",
   "metadata": {},
   "source": [
    "### FAT4"
   ]
  },
  {
   "cell_type": "code",
   "execution_count": 7,
   "metadata": {},
   "outputs": [],
   "source": [
    "# Open the JSON file\n",
    "with open('C:/Users/juan_/OneDrive/Escritorio/Ironhack/Week9_final_project/mutation/FAT4clinical.cohort.2024-03-08.json', 'r') as file:\n",
    "    # Load the JSON data from the file\n",
    "    data = json.load(file)\n",
    "\n",
    "# Create a DataFrame from the JSON data\n",
    "mut_fat4 = pd.DataFrame(data)\n",
    "\n",
    "# Print the DataFrame\n",
    "mut_fat4 = pd.DataFrame(mut_fat4['submitter_id'])"
   ]
  },
  {
   "cell_type": "markdown",
   "metadata": {},
   "source": [
    "### LRP1B"
   ]
  },
  {
   "cell_type": "code",
   "execution_count": 8,
   "metadata": {},
   "outputs": [],
   "source": [
    "# Open the JSON file\n",
    "with open('C:/Users/juan_/OneDrive/Escritorio/Ironhack/Week9_final_project/mutation/LRP1Bclinical.cohort.2024-03-08.json', 'r') as file:\n",
    "    # Load the JSON data from the file\n",
    "    data = json.load(file)\n",
    "\n",
    "# Create a DataFrame from the JSON data\n",
    "mut_lrp1b = pd.DataFrame(data)\n",
    "\n",
    "# Print the DataFrame\n",
    "mut_lrp1b = pd.DataFrame(mut_lrp1b['submitter_id'])"
   ]
  },
  {
   "cell_type": "markdown",
   "metadata": {},
   "source": [
    "### CSMD3"
   ]
  },
  {
   "cell_type": "code",
   "execution_count": 9,
   "metadata": {},
   "outputs": [],
   "source": [
    "# Open the JSON file\n",
    "with open('C:/Users/juan_/OneDrive/Escritorio/Ironhack/Week9_final_project/mutation/CSMD3clinical.cohort.2024-03-08.json', 'r') as file:\n",
    "    # Load the JSON data from the file\n",
    "    data = json.load(file)\n",
    "\n",
    "# Create a DataFrame from the JSON data\n",
    "mut_csmd3 = pd.DataFrame(data)\n",
    "\n",
    "# Print the DataFrame\n",
    "mut_csmd3= pd.DataFrame(mut_csmd3['submitter_id'])"
   ]
  },
  {
   "cell_type": "markdown",
   "metadata": {},
   "source": [
    "### FAT3"
   ]
  },
  {
   "cell_type": "code",
   "execution_count": 10,
   "metadata": {},
   "outputs": [],
   "source": [
    "# Open the JSON file\n",
    "with open('C:/Users/juan_/OneDrive/Escritorio/Ironhack/Week9_final_project/mutation/FAT3clinical.cohort.2024-03-08.json', 'r') as file:\n",
    "    # Load the JSON data from the file\n",
    "    data = json.load(file)\n",
    "\n",
    "# Create a DataFrame from the JSON data\n",
    "mut_fat3 = pd.DataFrame(data)\n",
    "\n",
    "# Print the DataFrame\n",
    "mut_fat3 = pd.DataFrame(mut_fat3['submitter_id'])"
   ]
  },
  {
   "cell_type": "markdown",
   "metadata": {},
   "source": [
    "### FBXW7"
   ]
  },
  {
   "cell_type": "code",
   "execution_count": 11,
   "metadata": {},
   "outputs": [],
   "source": [
    "# Open the JSON file\n",
    "with open('C:/Users/juan_/OneDrive/Escritorio/Ironhack/Week9_final_project/mutation/FBXW7clinical.cohort.2024-03-08.json', 'r') as file:\n",
    "    # Load the JSON data from the file\n",
    "    data = json.load(file)\n",
    "\n",
    "# Create a DataFrame from the JSON data\n",
    "mut_fbxw7 = pd.DataFrame(data)\n",
    "\n",
    "# Print the DataFrame\n",
    "mut_fbxw7 = pd.DataFrame(mut_fbxw7['submitter_id'])"
   ]
  },
  {
   "cell_type": "markdown",
   "metadata": {},
   "source": [
    "### PTPRT"
   ]
  },
  {
   "cell_type": "code",
   "execution_count": 12,
   "metadata": {},
   "outputs": [],
   "source": [
    "# Open the JSON file\n",
    "with open('C:/Users/juan_/OneDrive/Escritorio/Ironhack/Week9_final_project/mutation/PTPRTclinical.cohort.2024-03-08.json', 'r') as file:\n",
    "    # Load the JSON data from the file\n",
    "    data = json.load(file)\n",
    "\n",
    "# Create a DataFrame from the JSON data\n",
    "mut_ptprt = pd.DataFrame(data)\n",
    "\n",
    "# Print the DataFrame\n",
    "mut_ptprt = pd.DataFrame(mut_ptprt['submitter_id'])"
   ]
  },
  {
   "cell_type": "markdown",
   "metadata": {},
   "source": [
    "### KMT2D = MLL4"
   ]
  },
  {
   "cell_type": "code",
   "execution_count": 13,
   "metadata": {},
   "outputs": [],
   "source": [
    "# Open the JSON file\n",
    "with open('C:/Users/juan_/OneDrive/Escritorio/Ironhack/Week9_final_project/mutation/KMT2Dclinical.cohort.2024-03-08.json', 'r') as file:\n",
    "    # Load the JSON data from the file\n",
    "    data = json.load(file)\n",
    "\n",
    "# Create a DataFrame from the JSON data\n",
    "mut_mll4 = pd.DataFrame(data)\n",
    "\n",
    "# Print the DataFrame\n",
    "mut_mll4 = pd.DataFrame(mut_mll4['submitter_id'])"
   ]
  },
  {
   "cell_type": "markdown",
   "metadata": {},
   "source": [
    "### NBEA"
   ]
  },
  {
   "cell_type": "code",
   "execution_count": 14,
   "metadata": {},
   "outputs": [],
   "source": [
    "# Open the JSON file\n",
    "with open('C:/Users/juan_/OneDrive/Escritorio/Ironhack/Week9_final_project/mutation/NBEAclinical.cohort.2024-03-08.json', 'r') as file:\n",
    "    # Load the JSON data from the file\n",
    "    data = json.load(file)\n",
    "\n",
    "# Create a DataFrame from the JSON data\n",
    "mut_nbea = pd.DataFrame(data)\n",
    "\n",
    "# Print the DataFrame\n",
    "mut_nbea = pd.DataFrame(mut_nbea['submitter_id'])"
   ]
  },
  {
   "cell_type": "markdown",
   "metadata": {},
   "source": [
    "### ARID1A"
   ]
  },
  {
   "cell_type": "code",
   "execution_count": 15,
   "metadata": {},
   "outputs": [],
   "source": [
    "# Open the JSON file\n",
    "with open('C:/Users/juan_/OneDrive/Escritorio/Ironhack/Week9_final_project/mutation/ARID1Aclinical.cohort.2024-03-08.json', 'r') as file:\n",
    "    # Load the JSON data from the file\n",
    "    data = json.load(file)\n",
    "\n",
    "# Create a DataFrame from the JSON data\n",
    "mut_arid1a = pd.DataFrame(data)\n",
    "\n",
    "# Print the DataFrame\n",
    "mut_arid1a = pd.DataFrame(mut_arid1a['submitter_id'])"
   ]
  },
  {
   "cell_type": "markdown",
   "metadata": {},
   "source": [
    "### AMER1 = FAM123B"
   ]
  },
  {
   "cell_type": "code",
   "execution_count": 16,
   "metadata": {},
   "outputs": [],
   "source": [
    "# Open the JSON file\n",
    "with open('C:/Users/juan_/OneDrive/Escritorio/Ironhack/Week9_final_project/mutation/AMER1clinical.cohort.2024-03-08.json', 'r') as file:\n",
    "    # Load the JSON data from the file\n",
    "    data = json.load(file)\n",
    "\n",
    "# Create a DataFrame from the JSON data\n",
    "mut_fam123b = pd.DataFrame(data)\n",
    "\n",
    "# Print the DataFrame\n",
    "mut_fam123b = pd.DataFrame(mut_fam123b['submitter_id'])"
   ]
  },
  {
   "cell_type": "markdown",
   "metadata": {},
   "source": [
    "### SMAD4"
   ]
  },
  {
   "cell_type": "code",
   "execution_count": 17,
   "metadata": {},
   "outputs": [],
   "source": [
    "# Open the JSON file\n",
    "with open('C:/Users/juan_/OneDrive/Escritorio/Ironhack/Week9_final_project/mutation/SMAD4clinical.cohort.2024-03-08.json', 'r') as file:\n",
    "    # Load the JSON data from the file\n",
    "    data = json.load(file)\n",
    "\n",
    "# Create a DataFrame from the JSON data\n",
    "mut_smad4 = pd.DataFrame(data)\n",
    "\n",
    "# Print the DataFrame\n",
    "mut_smad4 = pd.DataFrame(mut_smad4['submitter_id'])"
   ]
  },
  {
   "cell_type": "markdown",
   "metadata": {},
   "source": [
    "### ATM"
   ]
  },
  {
   "cell_type": "code",
   "execution_count": 18,
   "metadata": {},
   "outputs": [],
   "source": [
    "# Open the JSON file\n",
    "with open('C:/Users/juan_/OneDrive/Escritorio/Ironhack/Week9_final_project/mutation/ATMclinical.cohort.2024-03-08.json', 'r') as file:\n",
    "    # Load the JSON data from the file\n",
    "    data = json.load(file)\n",
    "\n",
    "# Create a DataFrame from the JSON data\n",
    "mut_atm = pd.DataFrame(data)\n",
    "\n",
    "# Print the DataFrame\n",
    "mut_atm = pd.DataFrame(mut_atm['submitter_id'])"
   ]
  },
  {
   "cell_type": "markdown",
   "metadata": {},
   "source": [
    "### TCF7L2"
   ]
  },
  {
   "cell_type": "code",
   "execution_count": 19,
   "metadata": {},
   "outputs": [],
   "source": [
    "# Open the JSON file\n",
    "with open('C:/Users/juan_/OneDrive/Escritorio/Ironhack/Week9_final_project/mutation/TCF7L2clinical.cohort.2024-03-08.json', 'r') as file:\n",
    "    # Load the JSON data from the file\n",
    "    data = json.load(file)\n",
    "\n",
    "# Create a DataFrame from the JSON data\n",
    "mut_tcf7l2 = pd.DataFrame(data)\n",
    "\n",
    "# Print the DataFrame\n",
    "mut_tcf7l2 = pd.DataFrame(mut_tcf7l2['submitter_id'])"
   ]
  },
  {
   "cell_type": "markdown",
   "metadata": {},
   "source": [
    "### BRAF"
   ]
  },
  {
   "cell_type": "code",
   "execution_count": 20,
   "metadata": {},
   "outputs": [],
   "source": [
    "# Open the JSON file\n",
    "with open('C:/Users/juan_/OneDrive/Escritorio/Ironhack/Week9_final_project/mutation/BRAFclinical.cohort.2024-03-08.json', 'r') as file:\n",
    "    # Load the JSON data from the file\n",
    "    data = json.load(file)\n",
    "\n",
    "# Create a DataFrame from the JSON data\n",
    "mut_braf = pd.DataFrame(data)\n",
    "\n",
    "# Print the DataFrame\n",
    "mut_braf = pd.DataFrame(mut_braf['submitter_id'])"
   ]
  },
  {
   "cell_type": "markdown",
   "metadata": {},
   "source": [
    "### ZFHX3"
   ]
  },
  {
   "cell_type": "code",
   "execution_count": 21,
   "metadata": {},
   "outputs": [],
   "source": [
    "# Open the JSON file\n",
    "with open('C:/Users/juan_/OneDrive/Escritorio/Ironhack/Week9_final_project/mutation/ZFHX3clinical.cohort.2024-03-08.json', 'r') as file:\n",
    "    # Load the JSON data from the file\n",
    "    data = json.load(file)\n",
    "\n",
    "# Create a DataFrame from the JSON data\n",
    "mut_zfhx3 = pd.DataFrame(data)\n",
    "\n",
    "# Print the DataFrame\n",
    "mut_zfhx3 = pd.DataFrame(mut_zfhx3['submitter_id'])"
   ]
  },
  {
   "cell_type": "markdown",
   "metadata": {},
   "source": [
    "### ROBO2"
   ]
  },
  {
   "cell_type": "code",
   "execution_count": 22,
   "metadata": {},
   "outputs": [],
   "source": [
    "# Open the JSON file\n",
    "with open('C:/Users/juan_/OneDrive/Escritorio/Ironhack/Week9_final_project/mutation/ROBO2clinical.cohort.2024-03-09.json', 'r') as file:\n",
    "    # Load the JSON data from the file\n",
    "    data = json.load(file)\n",
    "\n",
    "# Create a DataFrame from the JSON data\n",
    "mut_robo2 = pd.DataFrame(data)\n",
    "\n",
    "# Print the DataFrame\n",
    "mut_robo2 = pd.DataFrame(mut_robo2['submitter_id'])"
   ]
  },
  {
   "cell_type": "markdown",
   "metadata": {},
   "source": [
    "### RNF43"
   ]
  },
  {
   "cell_type": "code",
   "execution_count": 23,
   "metadata": {},
   "outputs": [],
   "source": [
    "# Open the JSON file\n",
    "with open('C:/Users/juan_/OneDrive/Escritorio/Ironhack/Week9_final_project/mutation/RNF43clinical.cohort.2024-03-09.json', 'r') as file:\n",
    "    # Load the JSON data from the file\n",
    "    data = json.load(file)\n",
    "\n",
    "# Create a DataFrame from the JSON data\n",
    "mut_rnf43 = pd.DataFrame(data)\n",
    "\n",
    "# Print the DataFrame\n",
    "mut_rnf43 = pd.DataFrame(mut_rnf43['submitter_id'])"
   ]
  },
  {
   "cell_type": "markdown",
   "metadata": {},
   "source": [
    "### RNF213"
   ]
  },
  {
   "cell_type": "code",
   "execution_count": 24,
   "metadata": {},
   "outputs": [],
   "source": [
    "# Open the JSON file\n",
    "with open('C:/Users/juan_/OneDrive/Escritorio/Ironhack/Week9_final_project/mutation/RNF213clinical.cohort.2024-03-09.json', 'r') as file:\n",
    "    # Load the JSON data from the file\n",
    "    data = json.load(file)\n",
    "\n",
    "# Create a DataFrame from the JSON data\n",
    "mut_rnf213 = pd.DataFrame(data)\n",
    "\n",
    "# Print the DataFrame\n",
    "mut_rnf213 = pd.DataFrame(mut_rnf213['submitter_id'])"
   ]
  },
  {
   "cell_type": "markdown",
   "metadata": {},
   "source": [
    "### GRIN2A"
   ]
  },
  {
   "cell_type": "code",
   "execution_count": 25,
   "metadata": {},
   "outputs": [],
   "source": [
    "# Open the JSON file\n",
    "with open('C:/Users/juan_/OneDrive/Escritorio/Ironhack/Week9_final_project/mutation/GRIN2Aclinical.cohort.2024-03-09.json', 'r') as file:\n",
    "    # Load the JSON data from the file\n",
    "    data = json.load(file)\n",
    "\n",
    "# Create a DataFrame from the JSON data\n",
    "mut_grin2a = pd.DataFrame(data)\n",
    "\n",
    "# Print the DataFrame\n",
    "mut_grin2a = pd.DataFrame(mut_grin2a['submitter_id'])"
   ]
  },
  {
   "cell_type": "markdown",
   "metadata": {},
   "source": [
    "### FAT1"
   ]
  },
  {
   "cell_type": "code",
   "execution_count": 26,
   "metadata": {},
   "outputs": [],
   "source": [
    "# Open the JSON file\n",
    "with open('C:/Users/juan_/OneDrive/Escritorio/Ironhack/Week9_final_project/mutation/FAT1clinical.cohort.2024-03-09.json', 'r') as file:\n",
    "    # Load the JSON data from the file\n",
    "    data = json.load(file)\n",
    "\n",
    "# Create a DataFrame from the JSON data\n",
    "mut_fat1 = pd.DataFrame(data)\n",
    "\n",
    "# Print the DataFrame\n",
    "mut_fat1 = pd.DataFrame(mut_fat1['submitter_id'])"
   ]
  },
  {
   "cell_type": "markdown",
   "metadata": {},
   "source": [
    "### ERBB4"
   ]
  },
  {
   "cell_type": "code",
   "execution_count": 27,
   "metadata": {},
   "outputs": [],
   "source": [
    "# Open the JSON file\n",
    "with open('C:/Users/juan_/OneDrive/Escritorio/Ironhack/Week9_final_project/mutation/ERBB4clinical.cohort.2024-03-09.json', 'r') as file:\n",
    "    # Load the JSON data from the file\n",
    "    data = json.load(file)\n",
    "\n",
    "# Create a DataFrame from the JSON data\n",
    "mut_erbb4 = pd.DataFrame(data)\n",
    "\n",
    "# Print the DataFrame\n",
    "mut_erbb4 = pd.DataFrame(mut_erbb4['submitter_id'])"
   ]
  },
  {
   "cell_type": "markdown",
   "metadata": {},
   "source": [
    "### TNC"
   ]
  },
  {
   "cell_type": "code",
   "execution_count": 28,
   "metadata": {},
   "outputs": [],
   "source": [
    "# Open the JSON file\n",
    "with open('C:/Users/juan_/OneDrive/Escritorio/Ironhack/Week9_final_project/mutation/TNCclinical.cohort.2024-03-09.json', 'r') as file:\n",
    "    # Load the JSON data from the file\n",
    "    data = json.load(file)\n",
    "\n",
    "# Create a DataFrame from the JSON data\n",
    "mut_tnc = pd.DataFrame(data)\n",
    "\n",
    "# Print the DataFrame\n",
    "mut_tnc = pd.DataFrame(mut_tnc['submitter_id'])"
   ]
  },
  {
   "cell_type": "markdown",
   "metadata": {},
   "source": [
    "### KMT2C = MLL3"
   ]
  },
  {
   "cell_type": "code",
   "execution_count": 29,
   "metadata": {},
   "outputs": [],
   "source": [
    "# Open the JSON file\n",
    "with open('C:/Users/juan_/OneDrive/Escritorio/Ironhack/Week9_final_project/mutation/KMT2Cclinical.cohort.2024-03-09.json', 'r') as file:\n",
    "    # Load the JSON data from the file\n",
    "    data = json.load(file)\n",
    "\n",
    "# Create a DataFrame from the JSON data\n",
    "mut_mll3 = pd.DataFrame(data)\n",
    "\n",
    "# Print the DataFrame\n",
    "mut_mll3 = pd.DataFrame(mut_mll3['submitter_id'])"
   ]
  },
  {
   "cell_type": "markdown",
   "metadata": {},
   "source": [
    "### ACVR2A"
   ]
  },
  {
   "cell_type": "code",
   "execution_count": 30,
   "metadata": {},
   "outputs": [],
   "source": [
    "# Open the JSON file\n",
    "with open('C:/Users/juan_/OneDrive/Escritorio/Ironhack/Week9_final_project/mutation/ACVR2Aclinical.cohort.2024-03-09.json', 'r') as file:\n",
    "    # Load the JSON data from the file\n",
    "    data = json.load(file)\n",
    "\n",
    "# Create a DataFrame from the JSON data\n",
    "mut_acvr2a = pd.DataFrame(data)\n",
    "\n",
    "# Print the DataFrame\n",
    "mut_acvr2a = pd.DataFrame(mut_acvr2a['submitter_id'])"
   ]
  },
  {
   "cell_type": "markdown",
   "metadata": {},
   "source": [
    "### TRRAP"
   ]
  },
  {
   "cell_type": "code",
   "execution_count": 31,
   "metadata": {},
   "outputs": [],
   "source": [
    "# Open the JSON file\n",
    "with open('C:/Users/juan_/OneDrive/Escritorio/Ironhack/Week9_final_project/mutation/TRRAPclinical.cohort.2024-03-09.json', 'r') as file:\n",
    "    # Load the JSON data from the file\n",
    "    data = json.load(file)\n",
    "\n",
    "# Create a DataFrame from the JSON data\n",
    "mut_trrap = pd.DataFrame(data)\n",
    "\n",
    "# Print the DataFrame\n",
    "mut_trrap = pd.DataFrame(mut_trrap['submitter_id'])"
   ]
  },
  {
   "cell_type": "markdown",
   "metadata": {},
   "source": [
    "### AKAP9"
   ]
  },
  {
   "cell_type": "code",
   "execution_count": 32,
   "metadata": {},
   "outputs": [],
   "source": [
    "# Open the JSON file\n",
    "with open('C:/Users/juan_/OneDrive/Escritorio/Ironhack/Week9_final_project/mutation/AKAP9clinical.cohort.2024-03-10.json', 'r') as file:\n",
    "    # Load the JSON data from the file\n",
    "    data = json.load(file)\n",
    "\n",
    "# Create a DataFrame from the JSON data\n",
    "mut_akap9 = pd.DataFrame(data)\n",
    "\n",
    "# Print the DataFrame\n",
    "mut_akap9 = pd.DataFrame(mut_akap9['submitter_id'])"
   ]
  },
  {
   "cell_type": "markdown",
   "metadata": {},
   "source": [
    "### CREBBP"
   ]
  },
  {
   "cell_type": "code",
   "execution_count": 33,
   "metadata": {},
   "outputs": [],
   "source": [
    "# Open the JSON file\n",
    "with open('C:/Users/juan_/OneDrive/Escritorio/Ironhack/Week9_final_project/mutation/CREBBPclinical.cohort.2024-03-10.json', 'r') as file:\n",
    "    # Load the JSON data from the file\n",
    "    data = json.load(file)\n",
    "\n",
    "# Create a DataFrame from the JSON data\n",
    "mut_crebbp = pd.DataFrame(data)\n",
    "\n",
    "# Print the DataFrame\n",
    "mut_crebbp = pd.DataFrame(mut_crebbp['submitter_id'])"
   ]
  },
  {
   "cell_type": "markdown",
   "metadata": {},
   "source": [
    "### CNTNAP2"
   ]
  },
  {
   "cell_type": "code",
   "execution_count": 34,
   "metadata": {},
   "outputs": [],
   "source": [
    "# Open the JSON file\n",
    "with open('C:/Users/juan_/OneDrive/Escritorio/Ironhack/Week9_final_project/mutation/CNTNAP2clinical.cohort.2024-03-10.json', 'r') as file:\n",
    "    # Load the JSON data from the file\n",
    "    data = json.load(file)\n",
    "\n",
    "# Create a DataFrame from the JSON data\n",
    "mut_cntnap2 = pd.DataFrame(data)\n",
    "\n",
    "# Print the DataFrame\n",
    "mut_cntnap2 = pd.DataFrame(mut_cntnap2['submitter_id'])"
   ]
  },
  {
   "cell_type": "markdown",
   "metadata": {},
   "source": [
    "### BIRC6"
   ]
  },
  {
   "cell_type": "code",
   "execution_count": 35,
   "metadata": {},
   "outputs": [],
   "source": [
    "# Open the JSON file\n",
    "with open('C:/Users/juan_/OneDrive/Escritorio/Ironhack/Week9_final_project/mutation/BIRC6clinical.cohort.2024-03-10.json', 'r') as file:\n",
    "    # Load the JSON data from the file\n",
    "    data = json.load(file)\n",
    "\n",
    "# Create a DataFrame from the JSON data\n",
    "mut_birc6 = pd.DataFrame(data)\n",
    "\n",
    "# Print the DataFrame\n",
    "mut_birc6 = pd.DataFrame(mut_birc6['submitter_id'])"
   ]
  },
  {
   "cell_type": "markdown",
   "metadata": {},
   "source": [
    "### PREX2"
   ]
  },
  {
   "cell_type": "code",
   "execution_count": 36,
   "metadata": {},
   "outputs": [],
   "source": [
    "# Open the JSON file\n",
    "with open('C:/Users/juan_/OneDrive/Escritorio/Ironhack/Week9_final_project/mutation/PREX2clinical.cohort.2024-03-10.json', 'r') as file:\n",
    "    # Load the JSON data from the file\n",
    "    data = json.load(file)\n",
    "\n",
    "# Create a DataFrame from the JSON data\n",
    "mut_prex2 = pd.DataFrame(data)\n",
    "\n",
    "# Print the DataFrame\n",
    "mut_prex2 = pd.DataFrame(mut_prex2['submitter_id'])"
   ]
  },
  {
   "cell_type": "markdown",
   "metadata": {},
   "source": [
    "### KMT2A = ATRX"
   ]
  },
  {
   "cell_type": "code",
   "execution_count": 37,
   "metadata": {},
   "outputs": [],
   "source": [
    "# Open the JSON file\n",
    "with open('C:/Users/juan_/OneDrive/Escritorio/Ironhack/Week9_final_project/mutation/KMT2Aclinical.cohort.2024-03-10.json', 'r') as file:\n",
    "    # Load the JSON data from the file\n",
    "    data = json.load(file)\n",
    "\n",
    "# Create a DataFrame from the JSON data\n",
    "mut_atrx = pd.DataFrame(data)\n",
    "\n",
    "# Print the DataFrame\n",
    "mut_atrx = pd.DataFrame(mut_atrx['submitter_id'])"
   ]
  },
  {
   "cell_type": "markdown",
   "metadata": {},
   "source": [
    "### ANK1"
   ]
  },
  {
   "cell_type": "code",
   "execution_count": 38,
   "metadata": {},
   "outputs": [],
   "source": [
    "# Open the JSON file\n",
    "with open('C:/Users/juan_/OneDrive/Escritorio/Ironhack/Week9_final_project/mutation/ANK1clinical.cohort.2024-03-10.json', 'r') as file:\n",
    "    # Load the JSON data from the file\n",
    "    data = json.load(file)\n",
    "\n",
    "# Create a DataFrame from the JSON data\n",
    "mut_ank1 = pd.DataFrame(data)\n",
    "\n",
    "# Print the DataFrame\n",
    "mut_ank1 = pd.DataFrame(mut_ank1['submitter_id'])"
   ]
  },
  {
   "cell_type": "markdown",
   "metadata": {},
   "source": [
    "### CARD11"
   ]
  },
  {
   "cell_type": "code",
   "execution_count": 39,
   "metadata": {},
   "outputs": [],
   "source": [
    "# Open the JSON file\n",
    "with open('C:/Users/juan_/OneDrive/Escritorio/Ironhack/Week9_final_project/mutation/CARD11clinical.cohort.2024-03-10.json', 'r') as file:\n",
    "    # Load the JSON data from the file\n",
    "    data = json.load(file)\n",
    "\n",
    "# Create a DataFrame from the JSON data\n",
    "mut_card11 = pd.DataFrame(data)\n",
    "\n",
    "# Print the DataFrame\n",
    "mut_card11 = pd.DataFrame(mut_card11['submitter_id'])"
   ]
  },
  {
   "cell_type": "markdown",
   "metadata": {},
   "source": [
    "### CTNNA2"
   ]
  },
  {
   "cell_type": "code",
   "execution_count": 40,
   "metadata": {},
   "outputs": [],
   "source": [
    "# Open the JSON file\n",
    "with open('C:/Users/juan_/OneDrive/Escritorio/Ironhack/Week9_final_project/mutation/CTNNA2clinical.cohort.2024-03-10.json', 'r') as file:\n",
    "    # Load the JSON data from the file\n",
    "    data = json.load(file)\n",
    "\n",
    "# Create a DataFrame from the JSON data\n",
    "mut_ctnna2 = pd.DataFrame(data)\n",
    "\n",
    "# Print the DataFrame\n",
    "mut_ctnna2 = pd.DataFrame(mut_ctnna2['submitter_id'])"
   ]
  },
  {
   "cell_type": "markdown",
   "metadata": {},
   "source": [
    "### FAM47C"
   ]
  },
  {
   "cell_type": "code",
   "execution_count": 41,
   "metadata": {},
   "outputs": [],
   "source": [
    "# Open the JSON file\n",
    "with open('C:/Users/juan_/OneDrive/Escritorio/Ironhack/Week9_final_project/mutation/FAM47Cclinical.cohort.2024-03-10.json', 'r') as file:\n",
    "    # Load the JSON data from the file\n",
    "    data = json.load(file)\n",
    "\n",
    "# Create a DataFrame from the JSON data\n",
    "mut_fam47c = pd.DataFrame(data)\n",
    "\n",
    "# Print the DataFrame\n",
    "mut_fam47c = pd.DataFrame(mut_fam47c['submitter_id'])"
   ]
  },
  {
   "cell_type": "markdown",
   "metadata": {},
   "source": [
    "### CDH10"
   ]
  },
  {
   "cell_type": "code",
   "execution_count": 42,
   "metadata": {},
   "outputs": [],
   "source": [
    "# Open the JSON file\n",
    "with open('C:/Users/juan_/OneDrive/Escritorio/Ironhack/Week9_final_project/mutation/CDH10clinical.cohort.2024-03-10.json', 'r') as file:\n",
    "    # Load the JSON data from the file\n",
    "    data = json.load(file)\n",
    "\n",
    "# Create a DataFrame from the JSON data\n",
    "mut_cdh10 = pd.DataFrame(data)\n",
    "\n",
    "# Print the DataFrame\n",
    "mut_cdh10 = pd.DataFrame(mut_cdh10['submitter_id'])"
   ]
  },
  {
   "cell_type": "markdown",
   "metadata": {},
   "source": [
    "### BCL9L"
   ]
  },
  {
   "cell_type": "code",
   "execution_count": 43,
   "metadata": {},
   "outputs": [],
   "source": [
    "# Open the JSON file\n",
    "with open('C:/Users/juan_/OneDrive/Escritorio/Ironhack/Week9_final_project/mutation/BCL9Lclinical.cohort.2024-03-10.json', 'r') as file:\n",
    "    # Load the JSON data from the file\n",
    "    data = json.load(file)\n",
    "\n",
    "# Create a DataFrame from the JSON data\n",
    "mut_bcl9l = pd.DataFrame(data)\n",
    "\n",
    "# Print the DataFrame\n",
    "mut_bcl9l = pd.DataFrame(mut_bcl9l['submitter_id'])"
   ]
  },
  {
   "cell_type": "markdown",
   "metadata": {},
   "source": [
    "### MYH11"
   ]
  },
  {
   "cell_type": "code",
   "execution_count": 44,
   "metadata": {},
   "outputs": [],
   "source": [
    "# Open the JSON file\n",
    "with open('C:/Users/juan_/OneDrive/Escritorio/Ironhack/Week9_final_project/mutation/MYH11clinical.cohort.2024-03-10.json', 'r') as file:\n",
    "    # Load the JSON data from the file\n",
    "    data = json.load(file)\n",
    "\n",
    "# Create a DataFrame from the JSON data\n",
    "mut_myh11 = pd.DataFrame(data)\n",
    "\n",
    "# Print the DataFrame\n",
    "mut_myh11 = pd.DataFrame(mut_myh11['submitter_id'])"
   ]
  },
  {
   "cell_type": "markdown",
   "metadata": {},
   "source": [
    "### BRCA2"
   ]
  },
  {
   "cell_type": "code",
   "execution_count": 45,
   "metadata": {},
   "outputs": [],
   "source": [
    "# Open the JSON file\n",
    "with open('C:/Users/juan_/OneDrive/Escritorio/Ironhack/Week9_final_project/mutation/BRCA2clinical.cohort.2024-03-10.json', 'r') as file:\n",
    "    # Load the JSON data from the file\n",
    "    data = json.load(file)\n",
    "\n",
    "# Create a DataFrame from the JSON data\n",
    "mut_brca2 = pd.DataFrame(data)\n",
    "\n",
    "# Print the DataFrame\n",
    "mut_brca2 = pd.DataFrame(mut_brca2['submitter_id'])"
   ]
  },
  {
   "cell_type": "markdown",
   "metadata": {},
   "source": [
    "### CDH4"
   ]
  },
  {
   "cell_type": "code",
   "execution_count": 46,
   "metadata": {},
   "outputs": [],
   "source": [
    "# Open the JSON file\n",
    "with open('C:/Users/juan_/OneDrive/Escritorio/Ironhack/Week9_final_project/mutation/CDH4clinical.cohort.2024-03-10.json', 'r') as file:\n",
    "    # Load the JSON data from the file\n",
    "    data = json.load(file)\n",
    "\n",
    "# Create a DataFrame from the JSON data\n",
    "mut_cdh4 = pd.DataFrame(data)\n",
    "\n",
    "# Print the DataFrame\n",
    "mut_cdh4 = pd.DataFrame(mut_cdh4['submitter_id'])"
   ]
  },
  {
   "cell_type": "markdown",
   "metadata": {},
   "source": [
    "### ROS1"
   ]
  },
  {
   "cell_type": "code",
   "execution_count": 47,
   "metadata": {},
   "outputs": [],
   "source": [
    "# Open the JSON file\n",
    "with open('C:/Users/juan_/OneDrive/Escritorio/Ironhack/Week9_final_project/mutation/ROS1clinical.cohort.2024-03-10.json', 'r') as file:\n",
    "    # Load the JSON data from the file\n",
    "    data = json.load(file)\n",
    "\n",
    "# Create a DataFrame from the JSON data\n",
    "mut_ros1 = pd.DataFrame(data)\n",
    "\n",
    "# Print the DataFrame\n",
    "mut_ros1 = pd.DataFrame(mut_ros1['submitter_id'])"
   ]
  },
  {
   "cell_type": "markdown",
   "metadata": {},
   "source": [
    "### DCC"
   ]
  },
  {
   "cell_type": "code",
   "execution_count": 48,
   "metadata": {},
   "outputs": [],
   "source": [
    "# Open the JSON file\n",
    "with open('C:/Users/juan_/OneDrive/Escritorio/Ironhack/Week9_final_project/mutation/DCCclinical.cohort.2024-03-10.json', 'r') as file:\n",
    "    # Load the JSON data from the file\n",
    "    data = json.load(file)\n",
    "\n",
    "# Create a DataFrame from the JSON data\n",
    "mut_dcc = pd.DataFrame(data)\n",
    "\n",
    "# Print the DataFrame\n",
    "mut_dcc = pd.DataFrame(mut_dcc['submitter_id'])"
   ]
  },
  {
   "cell_type": "markdown",
   "metadata": {},
   "source": [
    "### BCL9"
   ]
  },
  {
   "cell_type": "code",
   "execution_count": 49,
   "metadata": {},
   "outputs": [],
   "source": [
    "# Open the JSON file\n",
    "with open('C:/Users/juan_/OneDrive/Escritorio/Ironhack/Week9_final_project/mutation/BCL9clinical.cohort.2024-03-10.json', 'r') as file:\n",
    "    # Load the JSON data from the file\n",
    "    data = json.load(file)\n",
    "\n",
    "# Create a DataFrame from the JSON data\n",
    "mut_bcl9 = pd.DataFrame(data)\n",
    "\n",
    "# Print the DataFrame\n",
    "mut_bcl9 = pd.DataFrame(mut_bcl9['submitter_id'])"
   ]
  },
  {
   "cell_type": "markdown",
   "metadata": {},
   "source": [
    "### PTPN13"
   ]
  },
  {
   "cell_type": "code",
   "execution_count": 50,
   "metadata": {},
   "outputs": [],
   "source": [
    "# Open the JSON file\n",
    "with open('C:/Users/juan_/OneDrive/Escritorio/Ironhack/Week9_final_project/mutation/PTPN13clinical.cohort.2024-03-10.json', 'r') as file:\n",
    "    # Load the JSON data from the file\n",
    "    data = json.load(file)\n",
    "\n",
    "# Create a DataFrame from the JSON data\n",
    "mut_ptpn13 = pd.DataFrame(data)\n",
    "\n",
    "# Print the DataFrame\n",
    "mut_ptpn13 = pd.DataFrame(mut_ptpn13['submitter_id'])"
   ]
  },
  {
   "cell_type": "markdown",
   "metadata": {},
   "source": [
    "### BCORL1"
   ]
  },
  {
   "cell_type": "code",
   "execution_count": 51,
   "metadata": {},
   "outputs": [],
   "source": [
    "# Open the JSON file\n",
    "with open('C:/Users/juan_/OneDrive/Escritorio/Ironhack/Week9_final_project/mutation/BCORL1clinical.cohort.2024-03-10.json', 'r') as file:\n",
    "    # Load the JSON data from the file\n",
    "    data = json.load(file)\n",
    "\n",
    "# Create a DataFrame from the JSON data\n",
    "mut_bcorl1 = pd.DataFrame(data)\n",
    "\n",
    "# Print the DataFrame\n",
    "mut_bcorl1 = pd.DataFrame(mut_bcorl1['submitter_id'])"
   ]
  },
  {
   "cell_type": "markdown",
   "metadata": {},
   "source": [
    "## Merge mutations to df_concat"
   ]
  },
  {
   "cell_type": "code",
   "execution_count": 52,
   "metadata": {},
   "outputs": [],
   "source": [
    "df_concat = pd.read_csv(\"df_concat.csv\")"
   ]
  },
  {
   "cell_type": "code",
   "execution_count": 53,
   "metadata": {},
   "outputs": [],
   "source": [
    "df_concat['apc'] = df_concat['submitter_id'].isin(mut_apc['submitter_id']).astype(int)\n",
    "df_concat['apc'].fillna(0, inplace=True)\n",
    "\n",
    "df_concat['tp53'] = df_concat['submitter_id'].isin(mut_tp53['submitter_id']).astype(int)\n",
    "df_concat['tp53'].fillna(0, inplace=True)\n",
    "\n",
    "df_concat['apc'] = df_concat['submitter_id'].isin(mut_apc['submitter_id']).astype(int)\n",
    "df_concat['apc'].fillna(0, inplace=True)\n",
    "\n",
    "df_concat['kras'] = df_concat['submitter_id'].isin(mut_kras['submitter_id']).astype(int)\n",
    "df_concat['kras'].fillna(0, inplace=True)\n",
    "\n",
    "df_concat['muc16'] = df_concat['submitter_id'].isin(mut_muc16['submitter_id']).astype(int)\n",
    "df_concat['muc16'].fillna(0, inplace=True)\n",
    "\n",
    "df_concat['pik3ca'] = df_concat['submitter_id'].isin(mut_pik3ca['submitter_id']).astype(int)\n",
    "df_concat['pik3ca'].fillna(0, inplace=True)\n",
    "\n",
    "df_concat['fat4'] = df_concat['submitter_id'].isin(mut_fat4['submitter_id']).astype(int)\n",
    "df_concat['fat4'].fillna(0, inplace=True)\n",
    "\n",
    "df_concat['lrp1b'] = df_concat['submitter_id'].isin(mut_lrp1b['submitter_id']).astype(int)\n",
    "df_concat['lrp1b'].fillna(0, inplace=True)\n",
    "\n",
    "df_concat['csmd3'] = df_concat['submitter_id'].isin(mut_csmd3['submitter_id']).astype(int)\n",
    "df_concat['csmd3'].fillna(0, inplace=True)\n",
    "\n",
    "df_concat['fat3'] = df_concat['submitter_id'].isin(mut_fat3['submitter_id']).astype(int)\n",
    "df_concat['fat3'].fillna(0, inplace=True)\n",
    "\n",
    "df_concat['fbxw7'] = df_concat['submitter_id'].isin(mut_fbxw7['submitter_id']).astype(int)\n",
    "df_concat['fbxw7'].fillna(0, inplace=True)\n",
    "\n",
    "df_concat['ptprt'] = df_concat['submitter_id'].isin(mut_ptprt['submitter_id']).astype(int)\n",
    "df_concat['ptprt'].fillna(0, inplace=True)\n",
    "\n",
    "df_concat['mll4'] = df_concat['submitter_id'].isin(mut_mll4['submitter_id']).astype(int)\n",
    "df_concat['mll4'].fillna(0, inplace=True)\n",
    "\n",
    "df_concat['nbea'] = df_concat['submitter_id'].isin(mut_nbea['submitter_id']).astype(int)\n",
    "df_concat['nbea'].fillna(0, inplace=True)\n",
    "\n",
    "df_concat['arid1a'] = df_concat['submitter_id'].isin(mut_arid1a['submitter_id']).astype(int)\n",
    "df_concat['arid1a'].fillna(0, inplace=True)\n",
    "\n",
    "df_concat['fam123b'] = df_concat['submitter_id'].isin(mut_fam123b['submitter_id']).astype(int)\n",
    "df_concat['fam123b'].fillna(0, inplace=True)\n",
    "\n",
    "df_concat['smad4'] = df_concat['submitter_id'].isin(mut_smad4['submitter_id']).astype(int)\n",
    "df_concat['smad4'].fillna(0, inplace=True)\n",
    "\n",
    "df_concat['atm'] = df_concat['submitter_id'].isin(mut_atm['submitter_id']).astype(int)\n",
    "df_concat['atm'].fillna(0, inplace=True)\n",
    "\n",
    "df_concat['tcf7l2'] = df_concat['submitter_id'].isin(mut_tcf7l2['submitter_id']).astype(int)\n",
    "df_concat['tcf7l2'].fillna(0, inplace=True)\n",
    "\n",
    "df_concat['braf'] = df_concat['submitter_id'].isin(mut_braf['submitter_id']).astype(int)\n",
    "df_concat['braf'].fillna(0, inplace=True)\n",
    "\n",
    "df_concat['zfhx3'] = df_concat['submitter_id'].isin(mut_zfhx3['submitter_id']).astype(int)\n",
    "df_concat['zfhx3'].fillna(0, inplace=True)\n",
    "\n",
    "df_concat['robo2'] = df_concat['submitter_id'].isin(mut_robo2['submitter_id']).astype(int)\n",
    "df_concat['robo2'].fillna(0, inplace=True)\n",
    "\n",
    "df_concat['rnf43'] = df_concat['submitter_id'].isin(mut_rnf43['submitter_id']).astype(int)\n",
    "df_concat['rnf43'].fillna(0, inplace=True)\n",
    "\n",
    "df_concat['rnf213'] = df_concat['submitter_id'].isin(mut_rnf213['submitter_id']).astype(int)\n",
    "df_concat['rnf213'].fillna(0, inplace=True)\n",
    "\n",
    "df_concat['grin2a'] = df_concat['submitter_id'].isin(mut_grin2a['submitter_id']).astype(int)\n",
    "df_concat['grin2a'].fillna(0, inplace=True)\n",
    "\n",
    "df_concat['fat1'] = df_concat['submitter_id'].isin(mut_fat1['submitter_id']).astype(int)\n",
    "df_concat['fat1'].fillna(0, inplace=True)\n",
    "\n",
    "df_concat['erbb4'] = df_concat['submitter_id'].isin(mut_erbb4['submitter_id']).astype(int)\n",
    "df_concat['erbb4'].fillna(0, inplace=True)\n",
    "\n",
    "df_concat['tnc'] = df_concat['submitter_id'].isin(mut_tnc['submitter_id']).astype(int)\n",
    "df_concat['tnc'].fillna(0, inplace=True)\n",
    "\n",
    "df_concat['mll3'] = df_concat['submitter_id'].isin(mut_mll3['submitter_id']).astype(int)\n",
    "df_concat['mll3'].fillna(0, inplace=True)\n",
    "\n",
    "df_concat['acvr2a'] = df_concat['submitter_id'].isin(mut_acvr2a['submitter_id']).astype(int)\n",
    "df_concat['acvr2a'].fillna(0, inplace=True)\n",
    "\n",
    "df_concat['trrap'] = df_concat['submitter_id'].isin(mut_trrap['submitter_id']).astype(int)\n",
    "df_concat['trrap'].fillna(0, inplace=True)\n",
    "\n",
    "df_concat['akap9'] = df_concat['submitter_id'].isin(mut_akap9['submitter_id']).astype(int)\n",
    "df_concat['akap9'].fillna(0, inplace=True)\n",
    "\n",
    "df_concat['crebbp'] = df_concat['submitter_id'].isin(mut_crebbp['submitter_id']).astype(int)\n",
    "df_concat['crebbp'].fillna(0, inplace=True)\n",
    "\n",
    "df_concat['cntnap2'] = df_concat['submitter_id'].isin(mut_cntnap2['submitter_id']).astype(int)\n",
    "df_concat['cntnap2'].fillna(0, inplace=True)\n",
    "\n",
    "df_concat['birc6'] = df_concat['submitter_id'].isin(mut_birc6['submitter_id']).astype(int)\n",
    "df_concat['birc6'].fillna(0, inplace=True)\n",
    "\n",
    "df_concat['prex2'] = df_concat['submitter_id'].isin(mut_prex2['submitter_id']).astype(int)\n",
    "df_concat['prex2'].fillna(0, inplace=True)\n",
    "\n",
    "df_concat['atrx'] = df_concat['submitter_id'].isin(mut_atrx['submitter_id']).astype(int)\n",
    "df_concat['atrx'].fillna(0, inplace=True)\n",
    "\n",
    "df_concat['ank1'] = df_concat['submitter_id'].isin(mut_ank1['submitter_id']).astype(int)\n",
    "df_concat['ank1'].fillna(0, inplace=True)\n",
    "\n",
    "df_concat['card11'] = df_concat['submitter_id'].isin(mut_card11['submitter_id']).astype(int)\n",
    "df_concat['card11'].fillna(0, inplace=True)\n",
    "\n",
    "df_concat['ctnna2'] = df_concat['submitter_id'].isin(mut_ctnna2['submitter_id']).astype(int)\n",
    "df_concat['ctnna2'].fillna(0, inplace=True)\n",
    "\n",
    "df_concat['fam47c'] = df_concat['submitter_id'].isin(mut_fam47c['submitter_id']).astype(int)\n",
    "df_concat['fam47c'].fillna(0, inplace=True)\n",
    "\n",
    "df_concat['cdh10'] = df_concat['submitter_id'].isin(mut_cdh10['submitter_id']).astype(int)\n",
    "df_concat['cdh10'].fillna(0, inplace=True)\n",
    "\n",
    "df_concat['bcl9l'] = df_concat['submitter_id'].isin(mut_bcl9l['submitter_id']).astype(int)\n",
    "df_concat['bcl9l'].fillna(0, inplace=True)\n",
    "\n",
    "df_concat['myh11'] = df_concat['submitter_id'].isin(mut_myh11['submitter_id']).astype(int)\n",
    "df_concat['myh11'].fillna(0, inplace=True)\n",
    "\n",
    "df_concat['brca2'] = df_concat['submitter_id'].isin(mut_brca2['submitter_id']).astype(int)\n",
    "df_concat['brca2'].fillna(0, inplace=True)\n",
    "\n",
    "df_concat['cdh4'] = df_concat['submitter_id'].isin(mut_cdh4['submitter_id']).astype(int)\n",
    "df_concat['cdh4'].fillna(0, inplace=True)\n",
    "\n",
    "df_concat['ros1'] = df_concat['submitter_id'].isin(mut_ros1['submitter_id']).astype(int)\n",
    "df_concat['ros1'].fillna(0, inplace=True)\n",
    "\n",
    "df_concat['dcc'] = df_concat['submitter_id'].isin(mut_dcc['submitter_id']).astype(int)\n",
    "df_concat['dcc'].fillna(0, inplace=True)\n",
    "\n",
    "df_concat['bcl9'] = df_concat['submitter_id'].isin(mut_bcl9['submitter_id']).astype(int)\n",
    "df_concat['bcl9'].fillna(0, inplace=True)\n",
    "\n",
    "df_concat['ptpn13'] = df_concat['submitter_id'].isin(mut_ptpn13['submitter_id']).astype(int)\n",
    "df_concat['ptpn13'].fillna(0, inplace=True)\n",
    "\n",
    "df_concat['bcorl1'] = df_concat['submitter_id'].isin(mut_bcorl1['submitter_id']).astype(int)\n",
    "df_concat['bcorl1'].fillna(0, inplace=True)\n"
   ]
  },
  {
   "cell_type": "code",
   "execution_count": 54,
   "metadata": {},
   "outputs": [
    {
     "data": {
      "text/plain": [
       "(633, 74)"
      ]
     },
     "execution_count": 54,
     "metadata": {},
     "output_type": "execute_result"
    }
   ],
   "source": [
    "df_concat.shape"
   ]
  },
  {
   "cell_type": "code",
   "execution_count": 55,
   "metadata": {},
   "outputs": [],
   "source": [
    "df_concat.to_csv('df_concat_mut.csv', index=False)"
   ]
  },
  {
   "cell_type": "code",
   "execution_count": 56,
   "metadata": {},
   "outputs": [
    {
     "data": {
      "text/html": [
       "<div>\n",
       "<style scoped>\n",
       "    .dataframe tbody tr th:only-of-type {\n",
       "        vertical-align: middle;\n",
       "    }\n",
       "\n",
       "    .dataframe tbody tr th {\n",
       "        vertical-align: top;\n",
       "    }\n",
       "\n",
       "    .dataframe thead th {\n",
       "        text-align: right;\n",
       "    }\n",
       "</style>\n",
       "<table border=\"1\" class=\"dataframe\">\n",
       "  <thead>\n",
       "    <tr style=\"text-align: right;\">\n",
       "      <th></th>\n",
       "      <th>submitter_id</th>\n",
       "      <th>tumor_descriptor</th>\n",
       "      <th>sample_type</th>\n",
       "      <th>tissue_type</th>\n",
       "      <th>ajcc_pathologic_stage</th>\n",
       "      <th>tissue_or_organ_of_origin</th>\n",
       "      <th>days_to_last_follow_up</th>\n",
       "      <th>age_at_diagnosis</th>\n",
       "      <th>primary_diagnosis</th>\n",
       "      <th>prior_malignancy</th>\n",
       "      <th>...</th>\n",
       "      <th>cdh10</th>\n",
       "      <th>bcl9l</th>\n",
       "      <th>myh11</th>\n",
       "      <th>brca2</th>\n",
       "      <th>cdh4</th>\n",
       "      <th>ros1</th>\n",
       "      <th>dcc</th>\n",
       "      <th>bcl9</th>\n",
       "      <th>ptpn13</th>\n",
       "      <th>bcorl1</th>\n",
       "    </tr>\n",
       "  </thead>\n",
       "  <tbody>\n",
       "    <tr>\n",
       "      <th>0</th>\n",
       "      <td>TCGA-DC-6158</td>\n",
       "      <td>Primary</td>\n",
       "      <td>Primary Tumor</td>\n",
       "      <td>Tumor</td>\n",
       "      <td>Stage I</td>\n",
       "      <td>Rectum</td>\n",
       "      <td>216.0</td>\n",
       "      <td>25842.0</td>\n",
       "      <td>Adenocarcinoma</td>\n",
       "      <td>no</td>\n",
       "      <td>...</td>\n",
       "      <td>0</td>\n",
       "      <td>0</td>\n",
       "      <td>0</td>\n",
       "      <td>0</td>\n",
       "      <td>0</td>\n",
       "      <td>0</td>\n",
       "      <td>0</td>\n",
       "      <td>0</td>\n",
       "      <td>0</td>\n",
       "      <td>0</td>\n",
       "    </tr>\n",
       "    <tr>\n",
       "      <th>1</th>\n",
       "      <td>TCGA-F4-6854</td>\n",
       "      <td>Primary</td>\n",
       "      <td>Primary Tumor</td>\n",
       "      <td>Tumor</td>\n",
       "      <td>Stage IIA</td>\n",
       "      <td>Sigmoid colon</td>\n",
       "      <td>16.0</td>\n",
       "      <td>28272.0</td>\n",
       "      <td>Adenocarcinoma</td>\n",
       "      <td>no</td>\n",
       "      <td>...</td>\n",
       "      <td>0</td>\n",
       "      <td>0</td>\n",
       "      <td>0</td>\n",
       "      <td>0</td>\n",
       "      <td>0</td>\n",
       "      <td>0</td>\n",
       "      <td>0</td>\n",
       "      <td>1</td>\n",
       "      <td>0</td>\n",
       "      <td>0</td>\n",
       "    </tr>\n",
       "    <tr>\n",
       "      <th>2</th>\n",
       "      <td>TCGA-DC-5337</td>\n",
       "      <td>Primary</td>\n",
       "      <td>Primary Tumor</td>\n",
       "      <td>Tumor</td>\n",
       "      <td>Stage I</td>\n",
       "      <td>Rectosigmoid junction</td>\n",
       "      <td>792.0</td>\n",
       "      <td>25202.0</td>\n",
       "      <td>Adenocarcinoma</td>\n",
       "      <td>no</td>\n",
       "      <td>...</td>\n",
       "      <td>0</td>\n",
       "      <td>0</td>\n",
       "      <td>0</td>\n",
       "      <td>0</td>\n",
       "      <td>0</td>\n",
       "      <td>0</td>\n",
       "      <td>0</td>\n",
       "      <td>0</td>\n",
       "      <td>0</td>\n",
       "      <td>0</td>\n",
       "    </tr>\n",
       "    <tr>\n",
       "      <th>3</th>\n",
       "      <td>TCGA-AA-3561</td>\n",
       "      <td>Primary</td>\n",
       "      <td>Primary Tumor</td>\n",
       "      <td>Tumor</td>\n",
       "      <td>Stage IIA</td>\n",
       "      <td>Colon</td>\n",
       "      <td>424.0</td>\n",
       "      <td>26420.0</td>\n",
       "      <td>Adenocarcinoma</td>\n",
       "      <td>no</td>\n",
       "      <td>...</td>\n",
       "      <td>0</td>\n",
       "      <td>0</td>\n",
       "      <td>0</td>\n",
       "      <td>0</td>\n",
       "      <td>0</td>\n",
       "      <td>0</td>\n",
       "      <td>0</td>\n",
       "      <td>0</td>\n",
       "      <td>0</td>\n",
       "      <td>0</td>\n",
       "    </tr>\n",
       "    <tr>\n",
       "      <th>4</th>\n",
       "      <td>TCGA-AA-A00O</td>\n",
       "      <td>Primary</td>\n",
       "      <td>Primary Tumor</td>\n",
       "      <td>Tumor</td>\n",
       "      <td>Stage IIIC</td>\n",
       "      <td>Sigmoid colon</td>\n",
       "      <td>822.0</td>\n",
       "      <td>30316.0</td>\n",
       "      <td>Adenocarcinoma</td>\n",
       "      <td>no</td>\n",
       "      <td>...</td>\n",
       "      <td>0</td>\n",
       "      <td>0</td>\n",
       "      <td>0</td>\n",
       "      <td>0</td>\n",
       "      <td>0</td>\n",
       "      <td>0</td>\n",
       "      <td>0</td>\n",
       "      <td>0</td>\n",
       "      <td>0</td>\n",
       "      <td>0</td>\n",
       "    </tr>\n",
       "    <tr>\n",
       "      <th>...</th>\n",
       "      <td>...</td>\n",
       "      <td>...</td>\n",
       "      <td>...</td>\n",
       "      <td>...</td>\n",
       "      <td>...</td>\n",
       "      <td>...</td>\n",
       "      <td>...</td>\n",
       "      <td>...</td>\n",
       "      <td>...</td>\n",
       "      <td>...</td>\n",
       "      <td>...</td>\n",
       "      <td>...</td>\n",
       "      <td>...</td>\n",
       "      <td>...</td>\n",
       "      <td>...</td>\n",
       "      <td>...</td>\n",
       "      <td>...</td>\n",
       "      <td>...</td>\n",
       "      <td>...</td>\n",
       "      <td>...</td>\n",
       "      <td>...</td>\n",
       "    </tr>\n",
       "    <tr>\n",
       "      <th>628</th>\n",
       "      <td>TCGA-AA-3818</td>\n",
       "      <td>Primary</td>\n",
       "      <td>Primary Tumor</td>\n",
       "      <td>Tumor</td>\n",
       "      <td>Stage IIA</td>\n",
       "      <td>Colon</td>\n",
       "      <td>NaN</td>\n",
       "      <td>28763.0</td>\n",
       "      <td>Adenocarcinoma</td>\n",
       "      <td>no</td>\n",
       "      <td>...</td>\n",
       "      <td>0</td>\n",
       "      <td>0</td>\n",
       "      <td>0</td>\n",
       "      <td>0</td>\n",
       "      <td>0</td>\n",
       "      <td>0</td>\n",
       "      <td>0</td>\n",
       "      <td>0</td>\n",
       "      <td>0</td>\n",
       "      <td>0</td>\n",
       "    </tr>\n",
       "    <tr>\n",
       "      <th>629</th>\n",
       "      <td>TCGA-AG-A00C</td>\n",
       "      <td>Primary</td>\n",
       "      <td>Primary Tumor</td>\n",
       "      <td>Tumor</td>\n",
       "      <td>Stage IIIB</td>\n",
       "      <td>Rectum</td>\n",
       "      <td>183.0</td>\n",
       "      <td>18201.0</td>\n",
       "      <td>Adenocarcinoma</td>\n",
       "      <td>no</td>\n",
       "      <td>...</td>\n",
       "      <td>0</td>\n",
       "      <td>0</td>\n",
       "      <td>0</td>\n",
       "      <td>1</td>\n",
       "      <td>0</td>\n",
       "      <td>0</td>\n",
       "      <td>0</td>\n",
       "      <td>0</td>\n",
       "      <td>0</td>\n",
       "      <td>0</td>\n",
       "    </tr>\n",
       "    <tr>\n",
       "      <th>630</th>\n",
       "      <td>TCGA-A6-2680</td>\n",
       "      <td>Not Applicable</td>\n",
       "      <td>Solid Tissue Normal</td>\n",
       "      <td>Normal</td>\n",
       "      <td>Stage II</td>\n",
       "      <td>Hepatic flexure of colon</td>\n",
       "      <td>1068.0</td>\n",
       "      <td>26533.0</td>\n",
       "      <td>Adenocarcinoma</td>\n",
       "      <td>no</td>\n",
       "      <td>...</td>\n",
       "      <td>0</td>\n",
       "      <td>0</td>\n",
       "      <td>0</td>\n",
       "      <td>0</td>\n",
       "      <td>0</td>\n",
       "      <td>0</td>\n",
       "      <td>0</td>\n",
       "      <td>0</td>\n",
       "      <td>0</td>\n",
       "      <td>0</td>\n",
       "    </tr>\n",
       "    <tr>\n",
       "      <th>631</th>\n",
       "      <td>TCGA-G5-6233</td>\n",
       "      <td>Not Applicable</td>\n",
       "      <td>Blood Derived Normal</td>\n",
       "      <td>Normal</td>\n",
       "      <td>NaN</td>\n",
       "      <td>Rectum</td>\n",
       "      <td>NaN</td>\n",
       "      <td>27190.0</td>\n",
       "      <td>Adenocarcinoma</td>\n",
       "      <td>yes</td>\n",
       "      <td>...</td>\n",
       "      <td>0</td>\n",
       "      <td>0</td>\n",
       "      <td>0</td>\n",
       "      <td>0</td>\n",
       "      <td>0</td>\n",
       "      <td>0</td>\n",
       "      <td>0</td>\n",
       "      <td>0</td>\n",
       "      <td>0</td>\n",
       "      <td>0</td>\n",
       "    </tr>\n",
       "    <tr>\n",
       "      <th>632</th>\n",
       "      <td>TCGA-DM-A28G</td>\n",
       "      <td>Not Applicable</td>\n",
       "      <td>Blood Derived Normal</td>\n",
       "      <td>Normal</td>\n",
       "      <td>Stage IIA</td>\n",
       "      <td>Ascending colon</td>\n",
       "      <td>1849.0</td>\n",
       "      <td>27641.0</td>\n",
       "      <td>Adenocarcinoma</td>\n",
       "      <td>no</td>\n",
       "      <td>...</td>\n",
       "      <td>0</td>\n",
       "      <td>0</td>\n",
       "      <td>0</td>\n",
       "      <td>0</td>\n",
       "      <td>0</td>\n",
       "      <td>0</td>\n",
       "      <td>0</td>\n",
       "      <td>0</td>\n",
       "      <td>0</td>\n",
       "      <td>0</td>\n",
       "    </tr>\n",
       "  </tbody>\n",
       "</table>\n",
       "<p>633 rows × 74 columns</p>\n",
       "</div>"
      ],
      "text/plain": [
       "     submitter_id tumor_descriptor           sample_type tissue_type  \\\n",
       "0    TCGA-DC-6158          Primary         Primary Tumor       Tumor   \n",
       "1    TCGA-F4-6854          Primary         Primary Tumor       Tumor   \n",
       "2    TCGA-DC-5337          Primary         Primary Tumor       Tumor   \n",
       "3    TCGA-AA-3561          Primary         Primary Tumor       Tumor   \n",
       "4    TCGA-AA-A00O          Primary         Primary Tumor       Tumor   \n",
       "..            ...              ...                   ...         ...   \n",
       "628  TCGA-AA-3818          Primary         Primary Tumor       Tumor   \n",
       "629  TCGA-AG-A00C          Primary         Primary Tumor       Tumor   \n",
       "630  TCGA-A6-2680   Not Applicable   Solid Tissue Normal      Normal   \n",
       "631  TCGA-G5-6233   Not Applicable  Blood Derived Normal      Normal   \n",
       "632  TCGA-DM-A28G   Not Applicable  Blood Derived Normal      Normal   \n",
       "\n",
       "    ajcc_pathologic_stage tissue_or_organ_of_origin  days_to_last_follow_up  \\\n",
       "0                 Stage I                    Rectum                   216.0   \n",
       "1               Stage IIA             Sigmoid colon                    16.0   \n",
       "2                 Stage I     Rectosigmoid junction                   792.0   \n",
       "3               Stage IIA                     Colon                   424.0   \n",
       "4              Stage IIIC             Sigmoid colon                   822.0   \n",
       "..                    ...                       ...                     ...   \n",
       "628             Stage IIA                     Colon                     NaN   \n",
       "629            Stage IIIB                    Rectum                   183.0   \n",
       "630              Stage II  Hepatic flexure of colon                  1068.0   \n",
       "631                   NaN                    Rectum                     NaN   \n",
       "632             Stage IIA           Ascending colon                  1849.0   \n",
       "\n",
       "     age_at_diagnosis primary_diagnosis prior_malignancy  ... cdh10 bcl9l  \\\n",
       "0             25842.0    Adenocarcinoma               no  ...     0     0   \n",
       "1             28272.0    Adenocarcinoma               no  ...     0     0   \n",
       "2             25202.0    Adenocarcinoma               no  ...     0     0   \n",
       "3             26420.0    Adenocarcinoma               no  ...     0     0   \n",
       "4             30316.0    Adenocarcinoma               no  ...     0     0   \n",
       "..                ...               ...              ...  ...   ...   ...   \n",
       "628           28763.0    Adenocarcinoma               no  ...     0     0   \n",
       "629           18201.0    Adenocarcinoma               no  ...     0     0   \n",
       "630           26533.0    Adenocarcinoma               no  ...     0     0   \n",
       "631           27190.0    Adenocarcinoma              yes  ...     0     0   \n",
       "632           27641.0    Adenocarcinoma               no  ...     0     0   \n",
       "\n",
       "    myh11 brca2 cdh4 ros1 dcc bcl9 ptpn13 bcorl1  \n",
       "0       0     0    0    0   0    0      0      0  \n",
       "1       0     0    0    0   0    1      0      0  \n",
       "2       0     0    0    0   0    0      0      0  \n",
       "3       0     0    0    0   0    0      0      0  \n",
       "4       0     0    0    0   0    0      0      0  \n",
       "..    ...   ...  ...  ...  ..  ...    ...    ...  \n",
       "628     0     0    0    0   0    0      0      0  \n",
       "629     0     1    0    0   0    0      0      0  \n",
       "630     0     0    0    0   0    0      0      0  \n",
       "631     0     0    0    0   0    0      0      0  \n",
       "632     0     0    0    0   0    0      0      0  \n",
       "\n",
       "[633 rows x 74 columns]"
      ]
     },
     "execution_count": 56,
     "metadata": {},
     "output_type": "execute_result"
    }
   ],
   "source": [
    "df_concat = pd.read_csv(\"df_concat_mut.csv\")\n",
    "df_concat"
   ]
  },
  {
   "cell_type": "markdown",
   "metadata": {},
   "source": [
    "Let's create a vertical table with genes, mutations and samples"
   ]
  },
  {
   "cell_type": "code",
   "execution_count": 66,
   "metadata": {},
   "outputs": [
    {
     "data": {
      "text/html": [
       "<div>\n",
       "<style scoped>\n",
       "    .dataframe tbody tr th:only-of-type {\n",
       "        vertical-align: middle;\n",
       "    }\n",
       "\n",
       "    .dataframe tbody tr th {\n",
       "        vertical-align: top;\n",
       "    }\n",
       "\n",
       "    .dataframe thead th {\n",
       "        text-align: right;\n",
       "    }\n",
       "</style>\n",
       "<table border=\"1\" class=\"dataframe\">\n",
       "  <thead>\n",
       "    <tr style=\"text-align: right;\">\n",
       "      <th></th>\n",
       "      <th>submitter_id</th>\n",
       "      <th>apc</th>\n",
       "      <th>tp53</th>\n",
       "      <th>kras</th>\n",
       "      <th>muc16</th>\n",
       "      <th>pik3ca</th>\n",
       "      <th>fat4</th>\n",
       "      <th>lrp1b</th>\n",
       "      <th>csmd3</th>\n",
       "      <th>fat3</th>\n",
       "      <th>...</th>\n",
       "      <th>cdh10</th>\n",
       "      <th>bcl9l</th>\n",
       "      <th>myh11</th>\n",
       "      <th>brca2</th>\n",
       "      <th>cdh4</th>\n",
       "      <th>ros1</th>\n",
       "      <th>dcc</th>\n",
       "      <th>bcl9</th>\n",
       "      <th>ptpn13</th>\n",
       "      <th>bcorl1</th>\n",
       "    </tr>\n",
       "  </thead>\n",
       "  <tbody>\n",
       "    <tr>\n",
       "      <th>0</th>\n",
       "      <td>TCGA-DC-6158</td>\n",
       "      <td>1</td>\n",
       "      <td>1</td>\n",
       "      <td>0</td>\n",
       "      <td>0</td>\n",
       "      <td>1</td>\n",
       "      <td>0</td>\n",
       "      <td>0</td>\n",
       "      <td>0</td>\n",
       "      <td>0</td>\n",
       "      <td>...</td>\n",
       "      <td>0</td>\n",
       "      <td>0</td>\n",
       "      <td>0</td>\n",
       "      <td>0</td>\n",
       "      <td>0</td>\n",
       "      <td>0</td>\n",
       "      <td>0</td>\n",
       "      <td>0</td>\n",
       "      <td>0</td>\n",
       "      <td>0</td>\n",
       "    </tr>\n",
       "    <tr>\n",
       "      <th>1</th>\n",
       "      <td>TCGA-F4-6854</td>\n",
       "      <td>0</td>\n",
       "      <td>1</td>\n",
       "      <td>1</td>\n",
       "      <td>0</td>\n",
       "      <td>0</td>\n",
       "      <td>0</td>\n",
       "      <td>0</td>\n",
       "      <td>0</td>\n",
       "      <td>0</td>\n",
       "      <td>...</td>\n",
       "      <td>0</td>\n",
       "      <td>0</td>\n",
       "      <td>0</td>\n",
       "      <td>0</td>\n",
       "      <td>0</td>\n",
       "      <td>0</td>\n",
       "      <td>0</td>\n",
       "      <td>1</td>\n",
       "      <td>0</td>\n",
       "      <td>0</td>\n",
       "    </tr>\n",
       "    <tr>\n",
       "      <th>2</th>\n",
       "      <td>TCGA-DC-5337</td>\n",
       "      <td>1</td>\n",
       "      <td>0</td>\n",
       "      <td>0</td>\n",
       "      <td>0</td>\n",
       "      <td>0</td>\n",
       "      <td>1</td>\n",
       "      <td>0</td>\n",
       "      <td>1</td>\n",
       "      <td>0</td>\n",
       "      <td>...</td>\n",
       "      <td>0</td>\n",
       "      <td>0</td>\n",
       "      <td>0</td>\n",
       "      <td>0</td>\n",
       "      <td>0</td>\n",
       "      <td>0</td>\n",
       "      <td>0</td>\n",
       "      <td>0</td>\n",
       "      <td>0</td>\n",
       "      <td>0</td>\n",
       "    </tr>\n",
       "    <tr>\n",
       "      <th>3</th>\n",
       "      <td>TCGA-AA-3561</td>\n",
       "      <td>0</td>\n",
       "      <td>0</td>\n",
       "      <td>0</td>\n",
       "      <td>0</td>\n",
       "      <td>0</td>\n",
       "      <td>0</td>\n",
       "      <td>0</td>\n",
       "      <td>0</td>\n",
       "      <td>0</td>\n",
       "      <td>...</td>\n",
       "      <td>0</td>\n",
       "      <td>0</td>\n",
       "      <td>0</td>\n",
       "      <td>0</td>\n",
       "      <td>0</td>\n",
       "      <td>0</td>\n",
       "      <td>0</td>\n",
       "      <td>0</td>\n",
       "      <td>0</td>\n",
       "      <td>0</td>\n",
       "    </tr>\n",
       "    <tr>\n",
       "      <th>4</th>\n",
       "      <td>TCGA-AA-A00O</td>\n",
       "      <td>1</td>\n",
       "      <td>1</td>\n",
       "      <td>0</td>\n",
       "      <td>1</td>\n",
       "      <td>0</td>\n",
       "      <td>1</td>\n",
       "      <td>0</td>\n",
       "      <td>0</td>\n",
       "      <td>0</td>\n",
       "      <td>...</td>\n",
       "      <td>0</td>\n",
       "      <td>0</td>\n",
       "      <td>0</td>\n",
       "      <td>0</td>\n",
       "      <td>0</td>\n",
       "      <td>0</td>\n",
       "      <td>0</td>\n",
       "      <td>0</td>\n",
       "      <td>0</td>\n",
       "      <td>0</td>\n",
       "    </tr>\n",
       "    <tr>\n",
       "      <th>...</th>\n",
       "      <td>...</td>\n",
       "      <td>...</td>\n",
       "      <td>...</td>\n",
       "      <td>...</td>\n",
       "      <td>...</td>\n",
       "      <td>...</td>\n",
       "      <td>...</td>\n",
       "      <td>...</td>\n",
       "      <td>...</td>\n",
       "      <td>...</td>\n",
       "      <td>...</td>\n",
       "      <td>...</td>\n",
       "      <td>...</td>\n",
       "      <td>...</td>\n",
       "      <td>...</td>\n",
       "      <td>...</td>\n",
       "      <td>...</td>\n",
       "      <td>...</td>\n",
       "      <td>...</td>\n",
       "      <td>...</td>\n",
       "      <td>...</td>\n",
       "    </tr>\n",
       "    <tr>\n",
       "      <th>628</th>\n",
       "      <td>TCGA-AA-3818</td>\n",
       "      <td>1</td>\n",
       "      <td>0</td>\n",
       "      <td>1</td>\n",
       "      <td>0</td>\n",
       "      <td>1</td>\n",
       "      <td>0</td>\n",
       "      <td>0</td>\n",
       "      <td>0</td>\n",
       "      <td>0</td>\n",
       "      <td>...</td>\n",
       "      <td>0</td>\n",
       "      <td>0</td>\n",
       "      <td>0</td>\n",
       "      <td>0</td>\n",
       "      <td>0</td>\n",
       "      <td>0</td>\n",
       "      <td>0</td>\n",
       "      <td>0</td>\n",
       "      <td>0</td>\n",
       "      <td>0</td>\n",
       "    </tr>\n",
       "    <tr>\n",
       "      <th>629</th>\n",
       "      <td>TCGA-AG-A00C</td>\n",
       "      <td>1</td>\n",
       "      <td>1</td>\n",
       "      <td>1</td>\n",
       "      <td>0</td>\n",
       "      <td>1</td>\n",
       "      <td>0</td>\n",
       "      <td>0</td>\n",
       "      <td>0</td>\n",
       "      <td>0</td>\n",
       "      <td>...</td>\n",
       "      <td>0</td>\n",
       "      <td>0</td>\n",
       "      <td>0</td>\n",
       "      <td>1</td>\n",
       "      <td>0</td>\n",
       "      <td>0</td>\n",
       "      <td>0</td>\n",
       "      <td>0</td>\n",
       "      <td>0</td>\n",
       "      <td>0</td>\n",
       "    </tr>\n",
       "    <tr>\n",
       "      <th>630</th>\n",
       "      <td>TCGA-A6-2680</td>\n",
       "      <td>1</td>\n",
       "      <td>1</td>\n",
       "      <td>1</td>\n",
       "      <td>0</td>\n",
       "      <td>1</td>\n",
       "      <td>1</td>\n",
       "      <td>1</td>\n",
       "      <td>0</td>\n",
       "      <td>0</td>\n",
       "      <td>...</td>\n",
       "      <td>0</td>\n",
       "      <td>0</td>\n",
       "      <td>0</td>\n",
       "      <td>0</td>\n",
       "      <td>0</td>\n",
       "      <td>0</td>\n",
       "      <td>0</td>\n",
       "      <td>0</td>\n",
       "      <td>0</td>\n",
       "      <td>0</td>\n",
       "    </tr>\n",
       "    <tr>\n",
       "      <th>631</th>\n",
       "      <td>TCGA-G5-6233</td>\n",
       "      <td>0</td>\n",
       "      <td>1</td>\n",
       "      <td>1</td>\n",
       "      <td>0</td>\n",
       "      <td>0</td>\n",
       "      <td>1</td>\n",
       "      <td>0</td>\n",
       "      <td>0</td>\n",
       "      <td>0</td>\n",
       "      <td>...</td>\n",
       "      <td>0</td>\n",
       "      <td>0</td>\n",
       "      <td>0</td>\n",
       "      <td>0</td>\n",
       "      <td>0</td>\n",
       "      <td>0</td>\n",
       "      <td>0</td>\n",
       "      <td>0</td>\n",
       "      <td>0</td>\n",
       "      <td>0</td>\n",
       "    </tr>\n",
       "    <tr>\n",
       "      <th>632</th>\n",
       "      <td>TCGA-DM-A28G</td>\n",
       "      <td>0</td>\n",
       "      <td>0</td>\n",
       "      <td>1</td>\n",
       "      <td>1</td>\n",
       "      <td>0</td>\n",
       "      <td>1</td>\n",
       "      <td>1</td>\n",
       "      <td>0</td>\n",
       "      <td>0</td>\n",
       "      <td>...</td>\n",
       "      <td>0</td>\n",
       "      <td>0</td>\n",
       "      <td>0</td>\n",
       "      <td>0</td>\n",
       "      <td>0</td>\n",
       "      <td>0</td>\n",
       "      <td>0</td>\n",
       "      <td>0</td>\n",
       "      <td>0</td>\n",
       "      <td>0</td>\n",
       "    </tr>\n",
       "  </tbody>\n",
       "</table>\n",
       "<p>633 rows × 51 columns</p>\n",
       "</div>"
      ],
      "text/plain": [
       "     submitter_id  apc  tp53  kras  muc16  pik3ca  fat4  lrp1b  csmd3  fat3  \\\n",
       "0    TCGA-DC-6158    1     1     0      0       1     0      0      0     0   \n",
       "1    TCGA-F4-6854    0     1     1      0       0     0      0      0     0   \n",
       "2    TCGA-DC-5337    1     0     0      0       0     1      0      1     0   \n",
       "3    TCGA-AA-3561    0     0     0      0       0     0      0      0     0   \n",
       "4    TCGA-AA-A00O    1     1     0      1       0     1      0      0     0   \n",
       "..            ...  ...   ...   ...    ...     ...   ...    ...    ...   ...   \n",
       "628  TCGA-AA-3818    1     0     1      0       1     0      0      0     0   \n",
       "629  TCGA-AG-A00C    1     1     1      0       1     0      0      0     0   \n",
       "630  TCGA-A6-2680    1     1     1      0       1     1      1      0     0   \n",
       "631  TCGA-G5-6233    0     1     1      0       0     1      0      0     0   \n",
       "632  TCGA-DM-A28G    0     0     1      1       0     1      1      0     0   \n",
       "\n",
       "     ...  cdh10  bcl9l  myh11  brca2  cdh4  ros1  dcc  bcl9  ptpn13  bcorl1  \n",
       "0    ...      0      0      0      0     0     0    0     0       0       0  \n",
       "1    ...      0      0      0      0     0     0    0     1       0       0  \n",
       "2    ...      0      0      0      0     0     0    0     0       0       0  \n",
       "3    ...      0      0      0      0     0     0    0     0       0       0  \n",
       "4    ...      0      0      0      0     0     0    0     0       0       0  \n",
       "..   ...    ...    ...    ...    ...   ...   ...  ...   ...     ...     ...  \n",
       "628  ...      0      0      0      0     0     0    0     0       0       0  \n",
       "629  ...      0      0      0      1     0     0    0     0       0       0  \n",
       "630  ...      0      0      0      0     0     0    0     0       0       0  \n",
       "631  ...      0      0      0      0     0     0    0     0       0       0  \n",
       "632  ...      0      0      0      0     0     0    0     0       0       0  \n",
       "\n",
       "[633 rows x 51 columns]"
      ]
     },
     "execution_count": 66,
     "metadata": {},
     "output_type": "execute_result"
    }
   ],
   "source": [
    "top50_genes_df = df_concat.iloc[:, [0] + list(range(24, 74))]\n",
    "top50_genes_df"
   ]
  },
  {
   "cell_type": "code",
   "execution_count": 77,
   "metadata": {},
   "outputs": [
    {
     "data": {
      "text/html": [
       "<div>\n",
       "<style scoped>\n",
       "    .dataframe tbody tr th:only-of-type {\n",
       "        vertical-align: middle;\n",
       "    }\n",
       "\n",
       "    .dataframe tbody tr th {\n",
       "        vertical-align: top;\n",
       "    }\n",
       "\n",
       "    .dataframe thead th {\n",
       "        text-align: right;\n",
       "    }\n",
       "</style>\n",
       "<table border=\"1\" class=\"dataframe\">\n",
       "  <thead>\n",
       "    <tr style=\"text-align: right;\">\n",
       "      <th></th>\n",
       "      <th>submitter_id</th>\n",
       "      <th>genes</th>\n",
       "      <th>values</th>\n",
       "    </tr>\n",
       "  </thead>\n",
       "  <tbody>\n",
       "    <tr>\n",
       "      <th>0</th>\n",
       "      <td>TCGA-DC-6158</td>\n",
       "      <td>APC</td>\n",
       "      <td>1</td>\n",
       "    </tr>\n",
       "    <tr>\n",
       "      <th>1</th>\n",
       "      <td>TCGA-F4-6854</td>\n",
       "      <td>APC</td>\n",
       "      <td>0</td>\n",
       "    </tr>\n",
       "    <tr>\n",
       "      <th>2</th>\n",
       "      <td>TCGA-DC-5337</td>\n",
       "      <td>APC</td>\n",
       "      <td>1</td>\n",
       "    </tr>\n",
       "    <tr>\n",
       "      <th>3</th>\n",
       "      <td>TCGA-AA-3561</td>\n",
       "      <td>APC</td>\n",
       "      <td>0</td>\n",
       "    </tr>\n",
       "    <tr>\n",
       "      <th>4</th>\n",
       "      <td>TCGA-AA-A00O</td>\n",
       "      <td>APC</td>\n",
       "      <td>1</td>\n",
       "    </tr>\n",
       "    <tr>\n",
       "      <th>...</th>\n",
       "      <td>...</td>\n",
       "      <td>...</td>\n",
       "      <td>...</td>\n",
       "    </tr>\n",
       "    <tr>\n",
       "      <th>31645</th>\n",
       "      <td>TCGA-AA-3818</td>\n",
       "      <td>BCORL1</td>\n",
       "      <td>0</td>\n",
       "    </tr>\n",
       "    <tr>\n",
       "      <th>31646</th>\n",
       "      <td>TCGA-AG-A00C</td>\n",
       "      <td>BCORL1</td>\n",
       "      <td>0</td>\n",
       "    </tr>\n",
       "    <tr>\n",
       "      <th>31647</th>\n",
       "      <td>TCGA-A6-2680</td>\n",
       "      <td>BCORL1</td>\n",
       "      <td>0</td>\n",
       "    </tr>\n",
       "    <tr>\n",
       "      <th>31648</th>\n",
       "      <td>TCGA-G5-6233</td>\n",
       "      <td>BCORL1</td>\n",
       "      <td>0</td>\n",
       "    </tr>\n",
       "    <tr>\n",
       "      <th>31649</th>\n",
       "      <td>TCGA-DM-A28G</td>\n",
       "      <td>BCORL1</td>\n",
       "      <td>0</td>\n",
       "    </tr>\n",
       "  </tbody>\n",
       "</table>\n",
       "<p>31650 rows × 3 columns</p>\n",
       "</div>"
      ],
      "text/plain": [
       "       submitter_id   genes  values\n",
       "0      TCGA-DC-6158     APC       1\n",
       "1      TCGA-F4-6854     APC       0\n",
       "2      TCGA-DC-5337     APC       1\n",
       "3      TCGA-AA-3561     APC       0\n",
       "4      TCGA-AA-A00O     APC       1\n",
       "...             ...     ...     ...\n",
       "31645  TCGA-AA-3818  BCORL1       0\n",
       "31646  TCGA-AG-A00C  BCORL1       0\n",
       "31647  TCGA-A6-2680  BCORL1       0\n",
       "31648  TCGA-G5-6233  BCORL1       0\n",
       "31649  TCGA-DM-A28G  BCORL1       0\n",
       "\n",
       "[31650 rows x 3 columns]"
      ]
     },
     "execution_count": 77,
     "metadata": {},
     "output_type": "execute_result"
    }
   ],
   "source": [
    "melted_df = pd.melt(top50_genes_df, id_vars=['submitter_id'], var_name='genes', value_name='values')\n",
    "melted_df['genes'] = melted_df['genes'].str.upper()\n",
    "melted_df"
   ]
  },
  {
   "cell_type": "code",
   "execution_count": 78,
   "metadata": {},
   "outputs": [],
   "source": [
    "melted_df.to_csv('melted_top50_mutation.csv', index = False)"
   ]
  },
  {
   "cell_type": "code",
   "execution_count": null,
   "metadata": {},
   "outputs": [],
   "source": []
  }
 ],
 "metadata": {
  "kernelspec": {
   "display_name": "base",
   "language": "python",
   "name": "python3"
  },
  "language_info": {
   "codemirror_mode": {
    "name": "ipython",
    "version": 3
   },
   "file_extension": ".py",
   "mimetype": "text/x-python",
   "name": "python",
   "nbconvert_exporter": "python",
   "pygments_lexer": "ipython3",
   "version": "3.11.5"
  }
 },
 "nbformat": 4,
 "nbformat_minor": 2
}
